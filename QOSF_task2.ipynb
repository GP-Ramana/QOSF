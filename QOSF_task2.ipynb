{
 "cells": [
  {
   "cell_type": "markdown",
   "metadata": {},
   "source": [
    "**PROBLEM STATEMENT**\n",
    "\n",
    "**The bit-flip code and the sign-flip code are two very simple circuits able to detect and fix the bit-flip and the sign-flip errors, respectively.**\n",
    "\n",
    "1. Build a circuit to prepare the Bell state: $$\\frac{(|00\\rangle+|11\\rangle)}{\\sqrt{2}}$$\n",
    "2. Now add, right before the CNOT gate and for each of the two qubits, an arbitrary “error gate”. By error gate we mean that with a certain probability (that you can decide but must be non-zero for all the choices) you have a 1 qubit unitary which can be either the identity, or the X gate (bit-flip error) or the Z gate (sign-flip error).\n",
    "3. Encode each of the two qubits with a sign-flip or a bit-flip code, in such a way that all the possible choices for the error gates described in 2), occurring on the logical qubits, can be detected and fixed. Motivate your choice. This is the most non-trivial part of the problem, so do it with a lot of care!\n",
    "4. Test your solution by making many measurements over the final state and testing that the results are in line with the expectations.\n",
    "\n"
   ]
  },
  {
   "cell_type": "markdown",
   "metadata": {},
   "source": [
    "**Below is my approach to the problem above**"
   ]
  },
  {
   "cell_type": "markdown",
   "metadata": {},
   "source": [
    "*Step 1: Make the necessary imports*"
   ]
  },
  {
   "cell_type": "code",
   "execution_count": 1,
   "metadata": {},
   "outputs": [],
   "source": [
    "from qiskit import QuantumCircuit, Aer, execute, BasicAer\n",
    "from math import pi\n",
    "import numpy as np\n",
    "from qiskit.visualization import plot_histogram\n",
    "from qiskit import QuantumRegister\n",
    "from qiskit import ClassicalRegister\n",
    "from qiskit import QuantumCircuit, execute,IBMQ\n",
    "from qiskit.tools.monitor import job_monitor"
   ]
  },
  {
   "cell_type": "code",
   "execution_count": 14,
   "metadata": {},
   "outputs": [],
   "source": [
    "import random"
   ]
  },
  {
   "cell_type": "markdown",
   "metadata": {},
   "source": [
    "*Step 2: Create the Bell State. This can be created by applying a Hadamard gate to the 1st qubit followed by a CNOT*\n",
    "*with control qubit as the 1st qubit and target qubit as the 2nd qubit. This step is just to show the Bell State.*    "
   ]
  },
  {
   "cell_type": "code",
   "execution_count": 3,
   "metadata": {},
   "outputs": [
    {
     "data": {
      "image/png": "[encoded data removed]",
      "text/plain": [
       "<Figure size 206.852x144.48 with 1 Axes>"
      ]
     },
     "execution_count": 3,
     "metadata": {},
     "output_type": "execute_result"
    }
   ],
   "source": [
    "q = QuantumRegister(2,'q')\n",
    "circuit = QuantumCircuit(q)\n",
    "circuit.h(q[0])\n",
    "circuit.cx(q[0],q[1])\n",
    "circuit.draw('mpl')"
   ]
  },
  {
   "cell_type": "markdown",
   "metadata": {},
   "source": [
    "**Now comes the main part of the question where we need to build the circuit for error correction. The problem states that we need to add either a I,X or Z (a single unitary) just before CNOT to both the qubits with non-zero probability. We will do this by making all combinations of these (I, X or Z) on both qubits to occur with same probability which means that the probability of error is not 0. To do this, we will do random sampling on the list of gates [I,X,Z] for both the qubits so that any error is somewhat equally likely to occur.**\n",
    "\n",
    "**Claim: It is enough to just implement a phase or sign flip code for the 1st qubit and a bit flip code for the 2nd qubit, we will require 4 auxiliary qubits, 2 for each qubit. The circuit implementation is below**"
   ]
  },
  {
   "cell_type": "code",
   "execution_count": 15,
   "metadata": {},
   "outputs": [
    {
     "data": {
      "text/plain": [
       "<qiskit.circuit.instructionset.InstructionSet at 0x7f8f37d3b898>"
      ]
     },
     "execution_count": 15,
     "metadata": {},
     "output_type": "execute_result"
    }
   ],
   "source": [
    "Gate_choices_for_errors = ['I','X','Z']\n",
    "q = QuantumRegister(6,'q')\n",
    "c = ClassicalRegister(2,'c')\n",
    "\n",
    "circuit = QuantumCircuit(q,c)\n",
    "\n",
    "#Below is the initial Hadamard gate which we had in the circuit we created for the Bell State\n",
    "circuit.h(q[0])\n",
    "\n",
    "#phase flip code for q[0]\n",
    "circuit.cx(q[0],q[2])\n",
    "circuit.cx(q[0],q[3])\n",
    "\n",
    "circuit.h(q[0])\n",
    "circuit.h(q[2])\n",
    "circuit.h(q[3]) \n",
    "\n",
    "#Now we need to randomly add an error gate to the first qubit, which the operations of the phase flip code should be able to\n",
    "#detect and correct.\n",
    "error_gate1 = random.choice(Gate_choices_for_errors) \n",
    "if error_gate1=='Z':\n",
    "    circuit.z(q[0])\n",
    "if error_gate1=='X':\n",
    "    circuit.x(q[0])\n",
    "if error_gate1=='I':\n",
    "    circuit.i(q[0])\n",
    "    \n",
    "circuit.h(q[0])\n",
    "circuit.h(q[2])\n",
    "circuit.h(q[3])\n",
    "\n",
    "circuit.cx(q[0],q[2])\n",
    "circuit.cx(q[0],q[3])\n",
    "circuit.ccx(q[3],q[2],q[0])\n",
    "circuit.barrier(q)\n",
    "\n",
    "#bit code for q[1]\n",
    "circuit.cx(q[1],q[4])\n",
    "circuit.cx(q[1],q[5])\n",
    "\n",
    "error_gate2 = random.choice(Gate_choices_for_errors) \n",
    "if error_gate2=='Z':\n",
    "    circuit.z(q[1])\n",
    "if error_gate2=='X':\n",
    "    circuit.x(q[1])\n",
    "if error_gate2=='I':\n",
    "    circuit.i(q[1])\n",
    "\n",
    "\n",
    "circuit.cx(q[1],q[4])\n",
    "circuit.cx(q[1],q[5])\n",
    "circuit.ccx(q[5],q[4],q[1])\n",
    "\n",
    "circuit.cx(q[0],q[1])\n",
    "circuit.barrier()\n",
    "circuit.measure(q[0],c[0]) \n",
    "circuit.measure(q[1],c[1]) "
   ]
  },
  {
   "cell_type": "code",
   "execution_count": 16,
   "metadata": {},
   "outputs": [
    {
     "data": {
      "image/png": "[encoded data removed]",
      "text/plain": [
       "<Figure size 1290.6x445.48 with 1 Axes>"
      ]
     },
     "execution_count": 16,
     "metadata": {},
     "output_type": "execute_result"
    }
   ],
   "source": [
    "circuit.draw('mpl')"
   ]
  },
  {
   "cell_type": "code",
   "execution_count": 17,
   "metadata": {},
   "outputs": [
    {
     "name": "stdout",
     "output_type": "stream",
     "text": [
      "{'11': 750, '00': 750}\n"
     ]
    }
   ],
   "source": [
    "backend = BasicAer.get_backend('qasm_simulator')\n",
    "job = execute(circuit, backend, shots=1500)\n",
    "\n",
    "counts = job.result().get_counts()\n",
    "\n",
    "print(counts)\n",
    "\n",
    "# backend1 = Aer.get_backend('statevector_simulator')\n",
    "# result = execute(circuit,backend1).result() # Do the simulation, returning the result\n",
    "# out_state = result.get_statevector()\n",
    "# print(out_state)"
   ]
  },
  {
   "cell_type": "markdown",
   "metadata": {},
   "source": [
    "**We can see from above measurements that though we introduced error gates randomly, we still get the Bell State, which means our circuit has been able to detect and correct the errors**"
   ]
  },
  {
   "cell_type": "markdown",
   "metadata": {},
   "source": [
    "**Reason why this worked: On the first qubit, after Hadamard gate, the qubit is in equal superposition of |0> and |1>, which means it is in the state |+>. This state is an eigenstate of the Pauli X gate with eigenvector as 1. This implies that X gate has no impact on this qubit after the Hadamard gate. Identity operator anyway does not have any impact on it. The only gate which can alter it is the Z gate which flips |1> to -|1> and would turn the state |+> to |->. Thus, a phase or sign flip code is sufficient to correct it**\n",
    "\n",
    "**Similarly for the 2nd qubit, it is in |0> state before CNOT. |0> is an eigenstate of Z with eigenvalue 1. This means that Z and I (Identity) have no impact on it. The only gate which has an impact on it, is the X gate, which would turn it into |1> (bit flip). Thus, the bit flip code can detect and correct it easily**"
   ]
  },
  {
   "cell_type": "markdown",
   "metadata": {},
   "source": [
    "**THANK YOU SO MUCH! THIS HAS BEEN A GREAT LEARNING EXPERIENCE. :)**"
   ]
  }
 ],
 "metadata": {
  "kernelspec": {
   "display_name": "Python 3",
   "language": "python",
   "name": "python3"
  },
  "language_info": {
   "codemirror_mode": {
    "name": "ipython",
    "version": 3
   },
   "file_extension": ".py",
   "mimetype": "text/x-python",
   "name": "python",
   "nbconvert_exporter": "python",
   "pygments_lexer": "ipython3",
   "version": "3.6.12"
  }
 },
 "nbformat": 4,
 "nbformat_minor": 4
}
